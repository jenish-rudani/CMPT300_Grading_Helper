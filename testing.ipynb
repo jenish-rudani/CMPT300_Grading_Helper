{
 "cells": [
  {
   "cell_type": "code",
   "execution_count": 2,
   "metadata": {},
   "outputs": [
    {
     "name": "stdout",
     "output_type": "stream",
     "text": [
      "/mnt/c/Users/jruda/OneDrive/Documents/School/TA/CMPT300/A2_Grading/submissions/g-ben-smuss-group/submissions/\n"
     ]
    },
    {
     "ename": "FileNotFoundError",
     "evalue": "[Errno 2] No such file or directory: '/mnt/c/Users/jruda/OneDrive/Documents/School/TA/CMPT300/A2_Grading/submissions/g-ben-smuss-group/submissions/'",
     "output_type": "error",
     "traceback": [
      "\u001b[0;31m---------------------------------------------------------------------------\u001b[0m",
      "\u001b[0;31mFileNotFoundError\u001b[0m                         Traceback (most recent call last)",
      "\u001b[0;32m/tmp/ipykernel_7156/3583234798.py\u001b[0m in \u001b[0;36m<module>\u001b[0;34m\u001b[0m\n\u001b[1;32m     17\u001b[0m \u001b[0msubmissionPath\u001b[0m \u001b[0;34m=\u001b[0m \u001b[0;34m\"{}/submissions/\"\u001b[0m\u001b[0;34m.\u001b[0m\u001b[0mformat\u001b[0m\u001b[0;34m(\u001b[0m\u001b[0mROOT_PATH\u001b[0m\u001b[0;34m)\u001b[0m\u001b[0;34m\u001b[0m\u001b[0;34m\u001b[0m\u001b[0m\n\u001b[1;32m     18\u001b[0m \u001b[0mprint\u001b[0m\u001b[0;34m(\u001b[0m\u001b[0msubmissionPath\u001b[0m\u001b[0;34m)\u001b[0m\u001b[0;34m\u001b[0m\u001b[0;34m\u001b[0m\u001b[0m\n\u001b[0;32m---> 19\u001b[0;31m \u001b[0mlistOfSumbissions\u001b[0m \u001b[0;34m=\u001b[0m \u001b[0msorted\u001b[0m\u001b[0;34m(\u001b[0m\u001b[0;34m[\u001b[0m\u001b[0mf\u001b[0m\u001b[0;34m.\u001b[0m\u001b[0mpath\u001b[0m \u001b[0;32mfor\u001b[0m \u001b[0mf\u001b[0m \u001b[0;32min\u001b[0m \u001b[0mos\u001b[0m\u001b[0;34m.\u001b[0m\u001b[0mscandir\u001b[0m\u001b[0;34m(\u001b[0m\u001b[0msubmissionPath\u001b[0m\u001b[0;34m)\u001b[0m \u001b[0;32mif\u001b[0m \u001b[0mf\u001b[0m\u001b[0;34m.\u001b[0m\u001b[0mis_dir\u001b[0m\u001b[0;34m(\u001b[0m\u001b[0;34m)\u001b[0m\u001b[0;34m]\u001b[0m\u001b[0;34m)\u001b[0m\u001b[0;34m\u001b[0m\u001b[0;34m\u001b[0m\u001b[0m\n\u001b[0m\u001b[1;32m     20\u001b[0m \u001b[0;31m# os.getcwd()\u001b[0m\u001b[0;34m\u001b[0m\u001b[0;34m\u001b[0m\u001b[0;34m\u001b[0m\u001b[0m\n\u001b[1;32m     21\u001b[0m \u001b[0;32mfor\u001b[0m \u001b[0mi\u001b[0m \u001b[0;32min\u001b[0m  \u001b[0mrange\u001b[0m\u001b[0;34m(\u001b[0m\u001b[0mlen\u001b[0m\u001b[0;34m(\u001b[0m\u001b[0mlistOfSumbissions\u001b[0m\u001b[0;34m)\u001b[0m\u001b[0;34m)\u001b[0m\u001b[0;34m:\u001b[0m\u001b[0;34m\u001b[0m\u001b[0;34m\u001b[0m\u001b[0m\n",
      "\u001b[0;31mFileNotFoundError\u001b[0m: [Errno 2] No such file or directory: '/mnt/c/Users/jruda/OneDrive/Documents/School/TA/CMPT300/A2_Grading/submissions/g-ben-smuss-group/submissions/'"
     ]
    }
   ],
   "source": [
    "import json\n",
    "import os\n",
    "import subprocess\n",
    "\n",
    "Assignment_Max_Grade = {\n",
    "    \"group\": \"g-grouptwo\",\n",
    "    \"documentationcommenting\": {\"mark\": 2.00, \"comment\": \"Comment on Documentation/Commenting.\"},\n",
    "    \"designstyleimplementation\": {\"mark\": 15.00, \"comment\": \"Comment on Design/Style/Implementation.\"},\n",
    "    \"execution\": {\"mark\": 13.00, \"comment\": \"Comment on Execution.\"},\n",
    "    \"late_percent\": 0.0,\n",
    "    \"mark_penalty\": 0.0,\n",
    "    \"mark_penalty_reason\": \"Reason for mark penalty\",\n",
    "    \"overall_comment\": \"Overall comment on the assignment.\"\n",
    "}\n",
    "\n",
    "ROOT_PATH = os.getcwd()\n",
    "submissionPath = \"{}/submissions/\".format(ROOT_PATH)\n",
    "print(submissionPath)\n",
    "listOfSumbissions = sorted([f.path for f in os.scandir(submissionPath) if f.is_dir()])\n",
    "# os.getcwd()\n",
    "for i in  range(len(listOfSumbissions)):\n",
    "    groupId = listOfSumbissions[i].split('/')[-1]\n",
    "    \n",
    "    Assignment_Max_Grade = {\n",
    "        \"group\": groupId,\n",
    "        \"documentationcommenting\": {\"mark\": 0.00, \"comment\": \"Comment on Documentation/Commenting.\"},\n",
    "        \"designstyleimplementation\": {\"mark\": 0.00, \"comment\": \"Comment on Design/Style/Implementation.\"},\n",
    "        \"execution\": {\"mark\": 0.00, \"comment\": \"Comment on Execution.\"},\n",
    "        \"late_percent\": 0.0,\n",
    "        \"mark_penalty\": 0.0,\n",
    "        \"mark_penalty_reason\": \"Reason for mark penalty\",\n",
    "        \"overall_comment\": \"Overall comment on the assignment.\"\n",
    "    }\n",
    "    os.chdir(listOfSumbissions[i])\n",
    "    currentDir = (os.getcwd())\n",
    "    # print(currentDir)\n",
    "    \n",
    "\n",
    "\n",
    "    getFiles = \"grep -irn '' --include '*.zip'\"\n",
    "    outputOfGetFiles = subprocess.Popen(getFiles, shell=True, stdout=subprocess.PIPE,\n",
    "                            stderr=subprocess.STDOUT).stdout.read()\n",
    "    extractedFolder = outputOfGetFiles.decode('utf-8').split()[2]\n",
    "    # print(outputOfGetFiles.decode('utf-8').split())\n",
    "    # print(\"Output Folder: {}\".format(extractedFolder))\n",
    "\n",
    "    checkIfDirectoryExistCmd = \"unzip -qql {}  | head -n1 | tr -s ' ' | cut -d' ' -f5-\".format(extractedFolder)\n",
    "    outputOfTarCommand = subprocess.Popen(checkIfDirectoryExistCmd, shell=True, stdout=subprocess.PIPE,\n",
    "                                        stderr=subprocess.STDOUT).stdout.read()\n",
    "    extractedFolderOrNoFolder = outputOfTarCommand.decode('utf-8').strip()\n",
    "    # print(outputOfTarCommand.decode('utf-8'))\n",
    "    # print(\"Output Folder: {}\".format(extractedFolder))\n",
    "    \n",
    "    if(extractedFolderOrNoFolder[-1] == '/'):\n",
    "        # update the path to list of submissions\n",
    "        \n",
    "        finalSubmissionDirPath = \"{}/{}\".format(listOfSumbissions[i], extractedFolderOrNoFolder)\n",
    "        print(\"currentDir: {} | Directory: {}\".format(finalSubmissionDirPath, extractedFolderOrNoFolder))\n",
    "    else:\n",
    "        finalSubmissionDirPath = listOfSumbissions[i]\n",
    "        print(\"currentDir: {} | File: {}\".format(finalSubmissionDirPath, extractedFolderOrNoFolder))\n",
    "    # Actually Extract all\n",
    "    unzipFilesCommand = \"unzip -o {}\".format(\n",
    "        extractedFolder)\n",
    "    unzipFilesCommandOutput = subprocess.Popen(unzipFilesCommand, shell=True, stdout=subprocess.PIPE,\n",
    "                                               stderr=subprocess.STDOUT).stdout.read().decode('utf-8').strip()\n",
    "    \n",
    "    # try:\n",
    "    #     grades = int(\n",
    "    #         input(\"\\n\\tGrade [ DOCUMENTATION & COMMENTING ] part of Code. Input [0 - 2] : \"))\n",
    "    #     Assignment_Max_Grade[\"documentationcommenting\"]['mark'] = grades\n",
    "    #     inputComment = input(\"\\tComments? [string]: \")\n",
    "    #     Assignment_Max_Grade[\"documentationcommenting\"]['comment'] = inputComment\n",
    "\n",
    "    #     grades = int(input(\"\\n\\tGrade [ DESIGN & IMPLEMENTATION ] part of Code. Input [0 - 15] : \"))\n",
    "    #     Assignment_Max_Grade[\"designstyleimplementation\"]['mark'] = grades\n",
    "    #     inputComment = input(\"\\tComments? [string]: \")\n",
    "    #     Assignment_Max_Grade[\"designstyleimplementation\"]['comment'] = inputComment\n",
    "\n",
    "    #     grades = int(input(\"\\n\\tGrade [ EXECUTION ] part of Code. Input [0 - 13] : \"))\n",
    "    #     Assignment_Max_Grade[\"execution\"]['mark'] = grades\n",
    "    #     inputComment = input(\"\\tComments? [string]: \")\n",
    "    #     Assignment_Max_Grade[\"execution\"]['comment'] = inputComment\n",
    "\n",
    "    #     inputComment = input(\"\\n\\nADD OVERALL COMMENT. Input [STRING] : \")\n",
    "    #     Assignment_Max_Grade[\"overall_comment\"] = inputComment\n",
    "    #     print(\"*\"*80)\n",
    "    # except ValueError:\n",
    "    #     i -= 1\n",
    "    #     continue\n",
    "    \n",
    "    \n",
    "# print(os.getcwd())\n",
    "# output = subprocess.Popen(\"make\", shell=True, stdout=subprocess.PIPE,\n",
    "#                           stderr=subprocess.STDOUT).stdout.read()\n",
    "# print(output.decode('utf-8'))\n",
    "\n",
    "# os.chdir(currentDir)\n",
    "# print(os.getcwd())\n",
    "os.chdir(ROOT_PATH)\n"
   ]
  }
 ],
 "metadata": {
  "kernelspec": {
   "display_name": "Python 3.8.10 64-bit",
   "language": "python",
   "name": "python3"
  },
  "language_info": {
   "codemirror_mode": {
    "name": "ipython",
    "version": 3
   },
   "file_extension": ".py",
   "mimetype": "text/x-python",
   "name": "python",
   "nbconvert_exporter": "python",
   "pygments_lexer": "ipython3",
   "version": "3.8.10"
  },
  "orig_nbformat": 4,
  "vscode": {
   "interpreter": {
    "hash": "916dbcbb3f70747c44a77c7bcd40155683ae19c65e1c03b4aa3499c5328201f1"
   }
  }
 },
 "nbformat": 4,
 "nbformat_minor": 2
}
