{
 "cells": [
  {
   "cell_type": "code",
   "execution_count": 2,
   "metadata": {},
   "outputs": [
    {
     "name": "stdout",
     "output_type": "stream",
     "text": [
      "/mnt/c/Users/jruda/OneDrive/Documents/School/TA/CMPT300/A2_Grading/submissions/\n",
      "currentDir: /mnt/c/Users/jruda/OneDrive/Documents/School/TA/CMPT300/A2_Grading/submissions/g-a2_cmpt300/300as2-Sina_EXP/ | Directory: 300as2-Sina_EXP/\n",
      "currentDir: /mnt/c/Users/jruda/OneDrive/Documents/School/TA/CMPT300/A2_Grading/submissions/g-a2_icruiksh | File: list.c\n",
      "currentDir: /mnt/c/Users/jruda/OneDrive/Documents/School/TA/CMPT300/A2_Grading/submissions/g-alex_brumasean_burnett/Assin2_Alex_Bruma+Sean_Burnett/ | Directory: Assin2_Alex_Bruma+Sean_Burnett/\n",
      "currentDir: /mnt/c/Users/jruda/OneDrive/Documents/School/TA/CMPT300/A2_Grading/submissions/g-arjun-solo | File: list.c\n",
      "currentDir: /mnt/c/Users/jruda/OneDrive/Documents/School/TA/CMPT300/A2_Grading/submissions/g-assign2solo | File: general.c\n",
      "currentDir: /mnt/c/Users/jruda/OneDrive/Documents/School/TA/CMPT300/A2_Grading/submissions/g-assignment-2-tal-and-matthew | File: list.c\n",
      "currentDir: /mnt/c/Users/jruda/OneDrive/Documents/School/TA/CMPT300/A2_Grading/submissions/g-ben-smuss-group/CMPT300-assign2-master/ | Directory: CMPT300-assign2-master/\n",
      "currentDir: /mnt/c/Users/jruda/OneDrive/Documents/School/TA/CMPT300/A2_Grading/submissions/g-bryan-lucas/cmpt-300-a2-master/ | Directory: cmpt-300-a2-master/\n",
      "currentDir: /mnt/c/Users/jruda/OneDrive/Documents/School/TA/CMPT300/A2_Grading/submissions/g-david | File: data.h\n",
      "currentDir: /mnt/c/Users/jruda/OneDrive/Documents/School/TA/CMPT300/A2_Grading/submissions/g-fenil | File: list.c\n",
      "currentDir: /mnt/c/Users/jruda/OneDrive/Documents/School/TA/CMPT300/A2_Grading/submissions/g-jamie-ethan | File: list.c\n",
      "currentDir: /mnt/c/Users/jruda/OneDrive/Documents/School/TA/CMPT300/A2_Grading/submissions/g-jashanfreddyassignment2/Assignment2(cmpt300)/ | Directory: Assignment2(cmpt300)/\n",
      "currentDir: /mnt/c/Users/jruda/OneDrive/Documents/School/TA/CMPT300/A2_Grading/submissions/g-june | File: list.c\n",
      "currentDir: /mnt/c/Users/jruda/OneDrive/Documents/School/TA/CMPT300/A2_Grading/submissions/g-junhang-wu-301435761/s-talk-main/ | Directory: s-talk-main/\n",
      "currentDir: /mnt/c/Users/jruda/OneDrive/Documents/School/TA/CMPT300/A2_Grading/submissions/g-justin_raymond/cmpt300-a2-master/ | Directory: cmpt300-a2-master/\n",
      "currentDir: /mnt/c/Users/jruda/OneDrive/Documents/School/TA/CMPT300/A2_Grading/submissions/g-nathalie | File: list.h\n",
      "currentDir: /mnt/c/Users/jruda/OneDrive/Documents/School/TA/CMPT300/A2_Grading/submissions/g-only-ikenna-okpala/300_ASS2/ | Directory: 300_ASS2/\n",
      "currentDir: /mnt/c/Users/jruda/OneDrive/Documents/School/TA/CMPT300/A2_Grading/submissions/g-parm-gidda-solo | File: chat.c\n",
      "currentDir: /mnt/c/Users/jruda/OneDrive/Documents/School/TA/CMPT300/A2_Grading/submissions/g-sahil/Terminal connect/ | Directory: Terminal connect/\n",
      "currentDir: /mnt/c/Users/jruda/OneDrive/Documents/School/TA/CMPT300/A2_Grading/submissions/g-sid_ihadnocluethiswasgroupass/sidharthNayyar#301344329/sp/ | Directory: sidharthNayyar#301344329/sp/\n",
      "currentDir: /mnt/c/Users/jruda/OneDrive/Documents/School/TA/CMPT300/A2_Grading/submissions/g-sleepy/a2/ | Directory: a2/\n",
      "currentDir: /mnt/c/Users/jruda/OneDrive/Documents/School/TA/CMPT300/A2_Grading/submissions/g-tao/Assignment2_CMPT300/ | Directory: Assignment2_CMPT300/\n",
      "currentDir: /mnt/c/Users/jruda/OneDrive/Documents/School/TA/CMPT300/A2_Grading/submissions/g-vikram-sodhan/A2-vikram-sodhan-handin/ | Directory: A2-vikram-sodhan-handin/\n",
      "currentDir: /mnt/c/Users/jruda/OneDrive/Documents/School/TA/CMPT300/A2_Grading/submissions/g-vishwa/Assignment 2/ | Directory: Assignment 2/\n",
      "currentDir: /mnt/c/Users/jruda/OneDrive/Documents/School/TA/CMPT300/A2_Grading/submissions/g-yup | File: keyboard.c\n"
     ]
    }
   ],
   "source": [
    "import json\n",
    "import os\n",
    "import subprocess\n",
    "\n",
    "Assignment_Max_Grade = {\n",
    "    \"group\": \"g-grouptwo\",\n",
    "    \"documentationcommenting\": {\"mark\": 2.00, \"comment\": \"Comment on Documentation/Commenting.\"},\n",
    "    \"designstyleimplementation\": {\"mark\": 15.00, \"comment\": \"Comment on Design/Style/Implementation.\"},\n",
    "    \"execution\": {\"mark\": 13.00, \"comment\": \"Comment on Execution.\"},\n",
    "    \"late_percent\": 0.0,\n",
    "    \"mark_penalty\": 0.0,\n",
    "    \"mark_penalty_reason\": \"Reason for mark penalty\",\n",
    "    \"overall_comment\": \"Overall comment on the assignment.\"\n",
    "}\n",
    "\n",
    "ROOT_PATH = os.getcwd()\n",
    "submissionPath = \"{}/submissions/\".format(ROOT_PATH)\n",
    "print(submissionPath)\n",
    "listOfSumbissions = sorted([f.path for f in os.scandir(submissionPath) if f.is_dir()])\n",
    "# os.getcwd()\n",
    "for i in  range(len(listOfSumbissions)):\n",
    "    os.chdir(listOfSumbissions[i])\n",
    "    currentDir = (os.getcwd())\n",
    "    # print(currentDir)\n",
    "\n",
    "\n",
    "\n",
    "    getFiles = \"grep -irn '' --include '*.zip'\"\n",
    "    outputOfGetFiles = subprocess.Popen(getFiles, shell=True, stdout=subprocess.PIPE,\n",
    "                            stderr=subprocess.STDOUT).stdout.read()\n",
    "    extractedFolder = outputOfGetFiles.decode('utf-8').split()[2]\n",
    "    # print(outputOfGetFiles.decode('utf-8').split())\n",
    "    # print(\"Output Folder: {}\".format(extractedFolder))\n",
    "\n",
    "    checkIfDirectoryExistCmd = \"unzip -qql {}  | head -n1 | tr -s ' ' | cut -d' ' -f5-\".format(extractedFolder)\n",
    "    outputOfTarCommand = subprocess.Popen(checkIfDirectoryExistCmd, shell=True, stdout=subprocess.PIPE,\n",
    "                                        stderr=subprocess.STDOUT).stdout.read()\n",
    "    extractedFolderOrNoFolder = outputOfTarCommand.decode('utf-8').strip()\n",
    "    # print(outputOfTarCommand.decode('utf-8'))\n",
    "    # print(\"Output Folder: {}\".format(extractedFolder))\n",
    "    \n",
    "    \n",
    "    if(extractedFolderOrNoFolder[-1] == '/'):\n",
    "        # update the path to list of submissions\n",
    "        listOfSumbissions[i] = \"{}/{}\".format(listOfSumbissions[i], extractedFolderOrNoFolder)\n",
    "        print(\"currentDir: {} | Directory: {}\".format(\n",
    "            listOfSumbissions[i], extractedFolderOrNoFolder))\n",
    "    else:\n",
    "        print(\"currentDir: {} | File: {}\".format(currentDir,extractedFolderOrNoFolder))\n",
    "    # Actually Extract all\n",
    "    unzipFilesCommand = \"unzip -o {}\".format(\n",
    "        extractedFolder)\n",
    "    unzipFilesCommandOutput = subprocess.Popen(unzipFilesCommand, shell=True, stdout=subprocess.PIPE,\n",
    "                                               stderr=subprocess.STDOUT).stdout.read().decode('utf-8').strip()\n",
    "    # print(unzipFilesCommandOutput)\n",
    "# print(os.getcwd())\n",
    "# output = subprocess.Popen(\"make\", shell=True, stdout=subprocess.PIPE,\n",
    "#                           stderr=subprocess.STDOUT).stdout.read()\n",
    "# print(output.decode('utf-8'))\n",
    "\n",
    "# os.chdir(currentDir)\n",
    "# print(os.getcwd())\n",
    "os.chdir(ROOT_PATH)\n"
   ]
  }
 ],
 "metadata": {
  "kernelspec": {
   "display_name": "Python 3.8.10 64-bit",
   "language": "python",
   "name": "python3"
  },
  "language_info": {
   "codemirror_mode": {
    "name": "ipython",
    "version": 3
   },
   "file_extension": ".py",
   "mimetype": "text/x-python",
   "name": "python",
   "nbconvert_exporter": "python",
   "pygments_lexer": "ipython3",
   "version": "3.8.10"
  },
  "orig_nbformat": 4,
  "vscode": {
   "interpreter": {
    "hash": "916dbcbb3f70747c44a77c7bcd40155683ae19c65e1c03b4aa3499c5328201f1"
   }
  }
 },
 "nbformat": 4,
 "nbformat_minor": 2
}
